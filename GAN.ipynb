{
  "nbformat": 4,
  "nbformat_minor": 0,
  "metadata": {
    "colab": {
      "provenance": []
    },
    "kernelspec": {
      "name": "python3",
      "display_name": "Python 3"
    },
    "language_info": {
      "name": "python"
    }
  },
  "cells": [
    {
      "cell_type": "code",
      "execution_count": 16,
      "metadata": {
        "colab": {
          "base_uri": "https://localhost:8080/"
        },
        "id": "-UP7BddKYBKv",
        "outputId": "2bfe2a57-7cd6-4e23-fa65-8bb201a8d982"
      },
      "outputs": [
        {
          "output_type": "stream",
          "name": "stdout",
          "text": [
            "Data(x=[2708, 1433], edge_index=[2, 10556], y=[2708], train_mask=[2708], val_mask=[2708], test_mask=[2708])\n",
            "Nodes: 2708\n",
            "Edges: 10556\n",
            "Features per node: 1433\n",
            "Num classes: 7\n",
            "torch.Size([2708, 1433])\n",
            "torch.Size([2708])\n",
            "Train/Val/Test sizes: 140 500 1000\n",
            "Expected Shape: torch.Size([2708, 7])\n"
          ]
        }
      ],
      "source": [
        "import torch\n",
        "#!pip install torch_geometric\n",
        "from torch_geometric.datasets import Planetoid\n",
        "from torch_geometric.transforms import NormalizeFeatures\n",
        "\n",
        "dataset = Planetoid(root='./data', name='Cora', transform=NormalizeFeatures())\n",
        "data = dataset[0]\n",
        "\n",
        "print(data)\n",
        "print(\"Nodes:\", data.num_nodes)\n",
        "print(\"Edges:\", data.edge_index.shape[1])\n",
        "print(\"Features per node:\", dataset.num_features)\n",
        "print(\"Num classes:\", dataset.num_classes)\n",
        "print(data.x.shape)\n",
        "print(data.y.shape)\n",
        "print (\"Train/Val/Test sizes:\", int(data.train_mask.sum()), int(data.val_mask.sum()), int(data.test_mask.sum()))\n",
        "\n",
        "import torch\n",
        "import torch.nn as nn\n",
        "import torch.nn.functional as F\n",
        "from torch_geometric.nn import GATConv\n",
        "\n",
        "class GAT(torch.nn.Module):\n",
        "    def __init__(self, in_channels, hidden_channels, out_channels, heads=8, dropout=0.6):\n",
        "      super(GAT, self).__init__()\n",
        "      self.dropout = nn.Dropout(dropout)\n",
        "      self.conv1 = GATConv(in_channels, hidden_channels, heads=heads, dropout=dropout)\n",
        "      self.conv2 = GATConv(hidden_channels * heads, out_channels, heads=1, concat=False, dropout=dropout)\n",
        "\n",
        "    def forward(self, x, edge_index):\n",
        "      x = self.dropout(x)\n",
        "      x = self.conv1(x, edge_index)\n",
        "      x = F.elu(x)\n",
        "      x = self.dropout(x)\n",
        "      x = self.conv2(x, edge_index)\n",
        "      return x\n",
        "\n",
        "# Test to make sure out.shape matches data.num_nodes, and dataset.num_classes\n",
        "#model = GAT(in_channels=dataset.num_features,\n",
        "#            hidden_channels=8,\n",
        "#            out_channels=dataset.num_classes,\n",
        "#            heads=8,\n",
        "#            dropout=0.6)\n",
        "#out = model(data.x, data.edge_index)\n",
        "#print(\"Expected Shape:\", out.shape)  # should be [data.num_nodes, dataset.num_classes]\n",
        "\n",
        "\n"
      ]
    }
  ]
}